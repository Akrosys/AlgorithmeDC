{
  "nbformat": 4,
  "nbformat_minor": 0,
  "metadata": {
    "colab": {
      "name": "dataResultsFootball.ipynb",
      "provenance": [],
      "collapsed_sections": [],
      "authorship_tag": "ABX9TyOIWInjuXAYZeIBRIYi8I9G",
      "include_colab_link": true
    },
    "kernelspec": {
      "name": "python3",
      "display_name": "Python 3"
    }
  },
  "cells": [
    {
      "cell_type": "markdown",
      "metadata": {
        "id": "view-in-github",
        "colab_type": "text"
      },
      "source": [
        "<a href=\"https://colab.research.google.com/github/Akrosys/AlgorithmeDC/blob/master/dataResultsFootball.ipynb\" target=\"_parent\"><img src=\"https://colab.research.google.com/assets/colab-badge.svg\" alt=\"Open In Colab\"/></a>"
      ]
    },
    {
      "cell_type": "markdown",
      "metadata": {
        "id": "isKn5XUoMxe9"
      },
      "source": [
        "#TP | Résultats du football international de 1872 à 2020"
      ]
    },
    {
      "cell_type": "markdown",
      "metadata": {
        "id": "o_GczHo7NCXe"
      },
      "source": [
        "Ce dataset contient les résultats des matchs de football internationaux depuis le premier match officiel en 1972 jusqu'en 2019. \n",
        "\n",
        "Les matchs étudiés appartiennent aux principales compétitions internationales et matchs amicaux. \n",
        "\n",
        "Les données ne comprennent pas les Jeux olympiques ni les matchs où au moins une des équipes était l'équipe B du pays, l'équipe U-23 ou une équipe sélectionnée par la ligue."
      ]
    },
    {
      "cell_type": "markdown",
      "metadata": {
        "id": "yQ1Kd0JSQpVp"
      },
      "source": [
        "##Import du dataset et des librairies"
      ]
    },
    {
      "cell_type": "code",
      "metadata": {
        "id": "X8DJNJHRMqlD",
        "outputId": "43337784-c0fc-4eee-bed4-36510ed9b7c4",
        "colab": {
          "base_uri": "https://localhost:8080/"
        }
      },
      "source": [
        "#Import des librairies\n",
        "import numpy as np\n",
        "import matplotlib.pyplot as plt\n",
        "import pandas as pd\n",
        "import seaborn as sns\n",
        "\n",
        "#Chargement du dataset\n",
        "from google.colab import drive\n",
        "drive.mount('/content/gdrive')\n",
        "root_path = 'gdrive/My Drive/Colab Notebooks/Exercices/TP | International Football Results'\n",
        "results = pd.read_csv(root_path+\"/results.csv\", sep=\",\")\n",
        "print(\"dataset loaded\")"
      ],
      "execution_count": null,
      "outputs": [
        {
          "output_type": "stream",
          "text": [
            "Mounted at /content/gdrive\n",
            "dataset loaded\n"
          ],
          "name": "stdout"
        }
      ]
    },
    {
      "cell_type": "code",
      "metadata": {
        "id": "kr5p-jW0SwXz"
      },
      "source": [
        ""
      ],
      "execution_count": null,
      "outputs": []
    },
    {
      "cell_type": "markdown",
      "metadata": {
        "id": "CCW6D21-RZem"
      },
      "source": [
        "##Analyse des contenus du dataset"
      ]
    },
    {
      "cell_type": "code",
      "metadata": {
        "id": "rfo06GK3RQr8",
        "outputId": "51b46a9f-6790-4e36-f3fe-44554b2a1faa",
        "colab": {
          "base_uri": "https://localhost:8080/"
        }
      },
      "source": [
        "results.info()"
      ],
      "execution_count": null,
      "outputs": [
        {
          "output_type": "stream",
          "text": [
            "<class 'pandas.core.frame.DataFrame'>\n",
            "RangeIndex: 41640 entries, 0 to 41639\n",
            "Data columns (total 9 columns):\n",
            " #   Column      Non-Null Count  Dtype \n",
            "---  ------      --------------  ----- \n",
            " 0   date        41640 non-null  object\n",
            " 1   home_team   41640 non-null  object\n",
            " 2   away_team   41640 non-null  object\n",
            " 3   home_score  41640 non-null  int64 \n",
            " 4   away_score  41640 non-null  int64 \n",
            " 5   tournament  41640 non-null  object\n",
            " 6   city        41640 non-null  object\n",
            " 7   country     41640 non-null  object\n",
            " 8   neutral     41640 non-null  bool  \n",
            "dtypes: bool(1), int64(2), object(6)\n",
            "memory usage: 2.6+ MB\n"
          ],
          "name": "stdout"
        }
      ]
    },
    {
      "cell_type": "code",
      "metadata": {
        "id": "lXwUGuIpYjVi",
        "outputId": "69335924-7ab9-49f0-946e-4878609fa6b2",
        "colab": {
          "base_uri": "https://localhost:8080/",
          "height": 197
        }
      },
      "source": [
        "results.head()"
      ],
      "execution_count": null,
      "outputs": [
        {
          "output_type": "execute_result",
          "data": {
            "text/html": [
              "<div>\n",
              "<style scoped>\n",
              "    .dataframe tbody tr th:only-of-type {\n",
              "        vertical-align: middle;\n",
              "    }\n",
              "\n",
              "    .dataframe tbody tr th {\n",
              "        vertical-align: top;\n",
              "    }\n",
              "\n",
              "    .dataframe thead th {\n",
              "        text-align: right;\n",
              "    }\n",
              "</style>\n",
              "<table border=\"1\" class=\"dataframe\">\n",
              "  <thead>\n",
              "    <tr style=\"text-align: right;\">\n",
              "      <th></th>\n",
              "      <th>date</th>\n",
              "      <th>home_team</th>\n",
              "      <th>away_team</th>\n",
              "      <th>home_score</th>\n",
              "      <th>away_score</th>\n",
              "      <th>tournament</th>\n",
              "      <th>city</th>\n",
              "      <th>country</th>\n",
              "      <th>neutral</th>\n",
              "    </tr>\n",
              "  </thead>\n",
              "  <tbody>\n",
              "    <tr>\n",
              "      <th>0</th>\n",
              "      <td>1872-11-30</td>\n",
              "      <td>Scotland</td>\n",
              "      <td>England</td>\n",
              "      <td>0</td>\n",
              "      <td>0</td>\n",
              "      <td>Friendly</td>\n",
              "      <td>Glasgow</td>\n",
              "      <td>Scotland</td>\n",
              "      <td>False</td>\n",
              "    </tr>\n",
              "    <tr>\n",
              "      <th>1</th>\n",
              "      <td>1873-03-08</td>\n",
              "      <td>England</td>\n",
              "      <td>Scotland</td>\n",
              "      <td>4</td>\n",
              "      <td>2</td>\n",
              "      <td>Friendly</td>\n",
              "      <td>London</td>\n",
              "      <td>England</td>\n",
              "      <td>False</td>\n",
              "    </tr>\n",
              "    <tr>\n",
              "      <th>2</th>\n",
              "      <td>1874-03-07</td>\n",
              "      <td>Scotland</td>\n",
              "      <td>England</td>\n",
              "      <td>2</td>\n",
              "      <td>1</td>\n",
              "      <td>Friendly</td>\n",
              "      <td>Glasgow</td>\n",
              "      <td>Scotland</td>\n",
              "      <td>False</td>\n",
              "    </tr>\n",
              "    <tr>\n",
              "      <th>3</th>\n",
              "      <td>1875-03-06</td>\n",
              "      <td>England</td>\n",
              "      <td>Scotland</td>\n",
              "      <td>2</td>\n",
              "      <td>2</td>\n",
              "      <td>Friendly</td>\n",
              "      <td>London</td>\n",
              "      <td>England</td>\n",
              "      <td>False</td>\n",
              "    </tr>\n",
              "    <tr>\n",
              "      <th>4</th>\n",
              "      <td>1876-03-04</td>\n",
              "      <td>Scotland</td>\n",
              "      <td>England</td>\n",
              "      <td>3</td>\n",
              "      <td>0</td>\n",
              "      <td>Friendly</td>\n",
              "      <td>Glasgow</td>\n",
              "      <td>Scotland</td>\n",
              "      <td>False</td>\n",
              "    </tr>\n",
              "  </tbody>\n",
              "</table>\n",
              "</div>"
            ],
            "text/plain": [
              "         date home_team away_team  ...     city   country neutral\n",
              "0  1872-11-30  Scotland   England  ...  Glasgow  Scotland   False\n",
              "1  1873-03-08   England  Scotland  ...   London   England   False\n",
              "2  1874-03-07  Scotland   England  ...  Glasgow  Scotland   False\n",
              "3  1875-03-06   England  Scotland  ...   London   England   False\n",
              "4  1876-03-04  Scotland   England  ...  Glasgow  Scotland   False\n",
              "\n",
              "[5 rows x 9 columns]"
            ]
          },
          "metadata": {
            "tags": []
          },
          "execution_count": 5
        }
      ]
    },
    {
      "cell_type": "markdown",
      "metadata": {
        "id": "FZKtMBseRXP_"
      },
      "source": [
        "Le dataset est composé de 8 colonnes.\n",
        "\n",
        "\n",
        "0.   **date :** Une colonne de type Object qui indique la date du déroulement du match\n",
        "1.   **home_team** : Une colonne de type Object qui indique l'équipe à domicile\n",
        "2.   **away_team** : Une colonne de type Object qui indique l'équipe à l'extérieur\n",
        "3.   **home_score** : Une colonne de type int64 qui indique le score de l'équipe à domicile\n",
        "4.   **away_score** : Une colonne de type int64 qui indique le score de l'équipe à l'extérieur\n",
        "5.   **tournament** : une colonne de type Object qui indique la compétition jouée\n",
        "6.   **city** : Une colonne de type Object qui indiqe la ville ou se joue le match\n",
        "7.   **country** : Une colonne de type Object qui indiqe le pays ou se joue le match\n",
        "8.   **neutral** : une colonne de type Object qui indique si le lieu du match est neutre.\n",
        "\n",
        "\n",
        "\n"
      ]
    },
    {
      "cell_type": "markdown",
      "metadata": {
        "id": "FiEVryRlYaBW"
      },
      "source": [
        "##Nettoyage du dataset"
      ]
    },
    {
      "cell_type": "code",
      "metadata": {
        "id": "6AEZjWCPYx9b",
        "outputId": "95a3caf1-090a-484e-f7d6-cd1d57f24d7c",
        "colab": {
          "base_uri": "https://localhost:8080/"
        }
      },
      "source": [
        "results.isnull().sum().sum()"
      ],
      "execution_count": null,
      "outputs": [
        {
          "output_type": "execute_result",
          "data": {
            "text/plain": [
              "0"
            ]
          },
          "metadata": {
            "tags": []
          },
          "execution_count": 6
        }
      ]
    },
    {
      "cell_type": "code",
      "metadata": {
        "id": "QW9m2h5ycwwm",
        "outputId": "1d0c53e8-00c8-4e63-8199-18b382d477e9",
        "colab": {
          "base_uri": "https://localhost:8080/"
        }
      },
      "source": [
        "results.isna().sum().sum()"
      ],
      "execution_count": null,
      "outputs": [
        {
          "output_type": "execute_result",
          "data": {
            "text/plain": [
              "0"
            ]
          },
          "metadata": {
            "tags": []
          },
          "execution_count": 7
        }
      ]
    },
    {
      "cell_type": "markdown",
      "metadata": {
        "id": "asLlllJYae7U"
      },
      "source": [
        "Comme on peut le voir ci-dessus, il n'y a aucune données manquantes"
      ]
    },
    {
      "cell_type": "markdown",
      "metadata": {
        "id": "scPwWbUJauwV"
      },
      "source": [
        "##La meilleure équipe de tous les temps\n",
        "Grâce à ce dataset, nous allons identifier la meilleure équipe de tous les temps, ce n'est pas l'équipe qui a gagné le plus de trophées mais l'équipe qui a gagné le plus de match"
      ]
    },
    {
      "cell_type": "markdown",
      "metadata": {
        "id": "CDQpwE01b04D"
      },
      "source": [
        "###Identifier l'équipe gagnante et perdante\n",
        "Dans ce dataset, nous avons tous les résultats internationaux, mais le dataset ne permet pas d'identifier clairement l'équipe qui a remporté le match. Afin de trouver qui est l'équipe gagnante, il faut identifier quel est le score le plus élevé entre domicile et extérieur. Puis faire un lien avec l'équipe correspondante sans oublier les matchs nuls.\n",
        "\n",
        "**Objectif**: Pour chaque date, indiquer l'équipe gagnante et perdante."
      ]
    },
    {
      "cell_type": "code",
      "metadata": {
        "id": "dfdcnqmQayoL",
        "outputId": "312f8560-71fa-4229-b69d-05118531dd19",
        "colab": {
          "base_uri": "https://localhost:8080/",
          "height": 197
        }
      },
      "source": [
        "#Copie du tableau afin de ne pas biaiser le tableau d'origine\n",
        "results2 = results.copy()\n",
        "\n",
        "#Ajout de la colonne winner et loser\n",
        "results2['winner'] = np.where((results2['home_score'] > results2['away_score']), results2['home_team'], np.where((results2['home_score'] < results2['away_score']), results2['away_team'], 'Draw'))\n",
        "results2['loser'] = np.where((results2['home_score'] > results2['away_score']), results2['away_team'], np.where((results2['home_score'] < results2['away_score']), results2['home_team'], 'Draw'))\n",
        "\n",
        "results2.head()"
      ],
      "execution_count": null,
      "outputs": [
        {
          "output_type": "execute_result",
          "data": {
            "text/html": [
              "<div>\n",
              "<style scoped>\n",
              "    .dataframe tbody tr th:only-of-type {\n",
              "        vertical-align: middle;\n",
              "    }\n",
              "\n",
              "    .dataframe tbody tr th {\n",
              "        vertical-align: top;\n",
              "    }\n",
              "\n",
              "    .dataframe thead th {\n",
              "        text-align: right;\n",
              "    }\n",
              "</style>\n",
              "<table border=\"1\" class=\"dataframe\">\n",
              "  <thead>\n",
              "    <tr style=\"text-align: right;\">\n",
              "      <th></th>\n",
              "      <th>date</th>\n",
              "      <th>home_team</th>\n",
              "      <th>away_team</th>\n",
              "      <th>home_score</th>\n",
              "      <th>away_score</th>\n",
              "      <th>tournament</th>\n",
              "      <th>city</th>\n",
              "      <th>country</th>\n",
              "      <th>neutral</th>\n",
              "      <th>winner</th>\n",
              "      <th>loser</th>\n",
              "    </tr>\n",
              "  </thead>\n",
              "  <tbody>\n",
              "    <tr>\n",
              "      <th>0</th>\n",
              "      <td>1872-11-30</td>\n",
              "      <td>Scotland</td>\n",
              "      <td>England</td>\n",
              "      <td>0</td>\n",
              "      <td>0</td>\n",
              "      <td>Friendly</td>\n",
              "      <td>Glasgow</td>\n",
              "      <td>Scotland</td>\n",
              "      <td>False</td>\n",
              "      <td>Draw</td>\n",
              "      <td>Draw</td>\n",
              "    </tr>\n",
              "    <tr>\n",
              "      <th>1</th>\n",
              "      <td>1873-03-08</td>\n",
              "      <td>England</td>\n",
              "      <td>Scotland</td>\n",
              "      <td>4</td>\n",
              "      <td>2</td>\n",
              "      <td>Friendly</td>\n",
              "      <td>London</td>\n",
              "      <td>England</td>\n",
              "      <td>False</td>\n",
              "      <td>England</td>\n",
              "      <td>Scotland</td>\n",
              "    </tr>\n",
              "    <tr>\n",
              "      <th>2</th>\n",
              "      <td>1874-03-07</td>\n",
              "      <td>Scotland</td>\n",
              "      <td>England</td>\n",
              "      <td>2</td>\n",
              "      <td>1</td>\n",
              "      <td>Friendly</td>\n",
              "      <td>Glasgow</td>\n",
              "      <td>Scotland</td>\n",
              "      <td>False</td>\n",
              "      <td>Scotland</td>\n",
              "      <td>England</td>\n",
              "    </tr>\n",
              "    <tr>\n",
              "      <th>3</th>\n",
              "      <td>1875-03-06</td>\n",
              "      <td>England</td>\n",
              "      <td>Scotland</td>\n",
              "      <td>2</td>\n",
              "      <td>2</td>\n",
              "      <td>Friendly</td>\n",
              "      <td>London</td>\n",
              "      <td>England</td>\n",
              "      <td>False</td>\n",
              "      <td>Draw</td>\n",
              "      <td>Draw</td>\n",
              "    </tr>\n",
              "    <tr>\n",
              "      <th>4</th>\n",
              "      <td>1876-03-04</td>\n",
              "      <td>Scotland</td>\n",
              "      <td>England</td>\n",
              "      <td>3</td>\n",
              "      <td>0</td>\n",
              "      <td>Friendly</td>\n",
              "      <td>Glasgow</td>\n",
              "      <td>Scotland</td>\n",
              "      <td>False</td>\n",
              "      <td>Scotland</td>\n",
              "      <td>England</td>\n",
              "    </tr>\n",
              "  </tbody>\n",
              "</table>\n",
              "</div>"
            ],
            "text/plain": [
              "         date home_team away_team  ...  neutral    winner     loser\n",
              "0  1872-11-30  Scotland   England  ...    False      Draw      Draw\n",
              "1  1873-03-08   England  Scotland  ...    False   England  Scotland\n",
              "2  1874-03-07  Scotland   England  ...    False  Scotland   England\n",
              "3  1875-03-06   England  Scotland  ...    False      Draw      Draw\n",
              "4  1876-03-04  Scotland   England  ...    False  Scotland   England\n",
              "\n",
              "[5 rows x 11 columns]"
            ]
          },
          "metadata": {
            "tags": []
          },
          "execution_count": 8
        }
      ]
    },
    {
      "cell_type": "markdown",
      "metadata": {
        "id": "__lopwnRmbgx"
      },
      "source": [
        "###Quelle équipe a gagné le plus de match ?\n",
        "Afin d'identifier la meilleure équipe de foot, on va tout d'abord faire un critère ultra simpliste, qui a gagné le plus de match de foot.\n",
        "\n",
        "**Objectif**: Afficher un graphique avec les équipes et leurs nombres de victoires."
      ]
    },
    {
      "cell_type": "code",
      "metadata": {
        "id": "JZ5iscK5nEjl",
        "outputId": "2bbc5026-f9db-45dc-ef62-42f985c64e15",
        "colab": {
          "base_uri": "https://localhost:8080/",
          "height": 318
        }
      },
      "source": [
        "sns.barplot(x=results2['winner'].value_counts().index[:20], y=results2['winner'].value_counts().values[:20])\n",
        "plt.xticks(rotation=90) # Afficher les valeurs x verticalement\n",
        "plt.show()"
      ],
      "execution_count": null,
      "outputs": [
        {
          "output_type": "display_data",
          "data": {
            "image/png": "[encoded data removed]",
            "text/plain": [
              "<Figure size 432x288 with 1 Axes>"
            ]
          },
          "metadata": {
            "tags": [],
            "needs_background": "light"
          }
        }
      ]
    },
    {
      "cell_type": "markdown",
      "metadata": {
        "id": "KPuqfWCGoDMe"
      },
      "source": [
        "Dans ce tableau, nous avons pris les 20 équipes avec le plus de victoires, cependant le résultat qui apparaît le plus souvent est le match nul. Ce qui nous permet pas d'identifier clairement le graphique. Nous allons donc enlever les matchs nuls.\n"
      ]
    },
    {
      "cell_type": "code",
      "metadata": {
        "id": "AuM9Zgowp12U",
        "outputId": "5317c031-aef1-43bf-dd93-2b556f0dac4e",
        "colab": {
          "base_uri": "https://localhost:8080/",
          "height": 315
        }
      },
      "source": [
        "sns.barplot(x=results2['winner'].value_counts().index[1:21], y=results2['winner'].value_counts().values[1:21])\n",
        "plt.xticks(rotation=90)\n",
        "plt.show()"
      ],
      "execution_count": null,
      "outputs": [
        {
          "output_type": "display_data",
          "data": {
            "image/png": "[encoded data removed]",
            "text/plain": [
              "<Figure size 432x288 with 1 Axes>"
            ]
          },
          "metadata": {
            "tags": [],
            "needs_background": "light"
          }
        }
      ]
    },
    {
      "cell_type": "markdown",
      "metadata": {
        "id": "WlX_34asqCaD"
      },
      "source": [
        "En analysant ce graphique, on voit clairement que l'équipe avec le plus de victoire est le Brésil. \n",
        "\n",
        "**Peut on définir le Brésil comme la meilleure équipe de tous les temps ?** NON\n",
        "\n",
        "\n",
        "*   Le nombre de match joué n'est pas égal\n",
        "*   Les rencontres ne sont pas forcement équilibré (Les pays appartenant aux memes continents ont tendance à beaucoup s'affonter, les matchs intercontinent sont plus rares.)\n",
        "*   Le prestige des matchs, un match amical a plus une valeur d'entrainement que de compétitions.\n",
        "\n",
        "\n"
      ]
    },
    {
      "cell_type": "markdown",
      "metadata": {
        "id": "sURaY7tLKOmC"
      },
      "source": [
        "##Quel est la compétition la plus jouée ?"
      ]
    },
    {
      "cell_type": "code",
      "metadata": {
        "id": "ChomC6XSRCcn",
        "outputId": "9120b2a0-5a52-4666-d500-245b5f79bc7f",
        "colab": {
          "base_uri": "https://localhost:8080/",
          "height": 432
        }
      },
      "source": [
        "sns.barplot(x=results2['tournament'].value_counts().index[:20], y=results2['tournament'].value_counts().values[:20])\n",
        "plt.xticks(rotation=90)\n",
        "plt.show()"
      ],
      "execution_count": null,
      "outputs": [
        {
          "output_type": "display_data",
          "data": {
            "image/png": "[encoded data removed]",
            "text/plain": [
              "<Figure size 432x288 with 1 Axes>"
            ]
          },
          "metadata": {
            "tags": [],
            "needs_background": "light"
          }
        }
      ]
    },
    {
      "cell_type": "markdown",
      "metadata": {
        "id": "HpPhLibsRtKb"
      },
      "source": [
        "On constate que les matchs amicaux sont enorméments joués par rapport aux autres compétitions. Sinon les match de qualification de la coupe du monde et de l'Euro complète le podium."
      ]
    },
    {
      "cell_type": "markdown",
      "metadata": {
        "id": "kGiJIRFXTSCH"
      },
      "source": [
        "##Evolution du football international au fil des années\n",
        "Etude du nombre de match de football"
      ]
    },
    {
      "cell_type": "code",
      "metadata": {
        "id": "d1Hgodw5TRuq"
      },
      "source": [
        "#Date object vers date\n",
        "results2['date'] = pd.to_datetime(results2['date'])"
      ],
      "execution_count": null,
      "outputs": []
    },
    {
      "cell_type": "code",
      "metadata": {
        "id": "ENE4TVvnUdyf",
        "outputId": "633bce1e-a27e-423a-d485-6c851e7dd724",
        "colab": {
          "base_uri": "https://localhost:8080/",
          "height": 197
        }
      },
      "source": [
        "#Création de la colonne année\n",
        "results2['year']  = results2['date'].apply(lambda time: time.year)\n",
        "results2.head()"
      ],
      "execution_count": null,
      "outputs": [
        {
          "output_type": "execute_result",
          "data": {
            "text/html": [
              "<div>\n",
              "<style scoped>\n",
              "    .dataframe tbody tr th:only-of-type {\n",
              "        vertical-align: middle;\n",
              "    }\n",
              "\n",
              "    .dataframe tbody tr th {\n",
              "        vertical-align: top;\n",
              "    }\n",
              "\n",
              "    .dataframe thead th {\n",
              "        text-align: right;\n",
              "    }\n",
              "</style>\n",
              "<table border=\"1\" class=\"dataframe\">\n",
              "  <thead>\n",
              "    <tr style=\"text-align: right;\">\n",
              "      <th></th>\n",
              "      <th>date</th>\n",
              "      <th>home_team</th>\n",
              "      <th>away_team</th>\n",
              "      <th>home_score</th>\n",
              "      <th>away_score</th>\n",
              "      <th>tournament</th>\n",
              "      <th>city</th>\n",
              "      <th>country</th>\n",
              "      <th>neutral</th>\n",
              "      <th>winner</th>\n",
              "      <th>loser</th>\n",
              "      <th>year</th>\n",
              "    </tr>\n",
              "  </thead>\n",
              "  <tbody>\n",
              "    <tr>\n",
              "      <th>0</th>\n",
              "      <td>1872-11-30</td>\n",
              "      <td>Scotland</td>\n",
              "      <td>England</td>\n",
              "      <td>0</td>\n",
              "      <td>0</td>\n",
              "      <td>Friendly</td>\n",
              "      <td>Glasgow</td>\n",
              "      <td>Scotland</td>\n",
              "      <td>False</td>\n",
              "      <td>Draw</td>\n",
              "      <td>Draw</td>\n",
              "      <td>1872</td>\n",
              "    </tr>\n",
              "    <tr>\n",
              "      <th>1</th>\n",
              "      <td>1873-03-08</td>\n",
              "      <td>England</td>\n",
              "      <td>Scotland</td>\n",
              "      <td>4</td>\n",
              "      <td>2</td>\n",
              "      <td>Friendly</td>\n",
              "      <td>London</td>\n",
              "      <td>England</td>\n",
              "      <td>False</td>\n",
              "      <td>England</td>\n",
              "      <td>Scotland</td>\n",
              "      <td>1873</td>\n",
              "    </tr>\n",
              "    <tr>\n",
              "      <th>2</th>\n",
              "      <td>1874-03-07</td>\n",
              "      <td>Scotland</td>\n",
              "      <td>England</td>\n",
              "      <td>2</td>\n",
              "      <td>1</td>\n",
              "      <td>Friendly</td>\n",
              "      <td>Glasgow</td>\n",
              "      <td>Scotland</td>\n",
              "      <td>False</td>\n",
              "      <td>Scotland</td>\n",
              "      <td>England</td>\n",
              "      <td>1874</td>\n",
              "    </tr>\n",
              "    <tr>\n",
              "      <th>3</th>\n",
              "      <td>1875-03-06</td>\n",
              "      <td>England</td>\n",
              "      <td>Scotland</td>\n",
              "      <td>2</td>\n",
              "      <td>2</td>\n",
              "      <td>Friendly</td>\n",
              "      <td>London</td>\n",
              "      <td>England</td>\n",
              "      <td>False</td>\n",
              "      <td>Draw</td>\n",
              "      <td>Draw</td>\n",
              "      <td>1875</td>\n",
              "    </tr>\n",
              "    <tr>\n",
              "      <th>4</th>\n",
              "      <td>1876-03-04</td>\n",
              "      <td>Scotland</td>\n",
              "      <td>England</td>\n",
              "      <td>3</td>\n",
              "      <td>0</td>\n",
              "      <td>Friendly</td>\n",
              "      <td>Glasgow</td>\n",
              "      <td>Scotland</td>\n",
              "      <td>False</td>\n",
              "      <td>Scotland</td>\n",
              "      <td>England</td>\n",
              "      <td>1876</td>\n",
              "    </tr>\n",
              "  </tbody>\n",
              "</table>\n",
              "</div>"
            ],
            "text/plain": [
              "        date home_team away_team  home_score  ...  neutral    winner     loser  year\n",
              "0 1872-11-30  Scotland   England           0  ...    False      Draw      Draw  1872\n",
              "1 1873-03-08   England  Scotland           4  ...    False   England  Scotland  1873\n",
              "2 1874-03-07  Scotland   England           2  ...    False  Scotland   England  1874\n",
              "3 1875-03-06   England  Scotland           2  ...    False      Draw      Draw  1875\n",
              "4 1876-03-04  Scotland   England           3  ...    False  Scotland   England  1876\n",
              "\n",
              "[5 rows x 12 columns]"
            ]
          },
          "metadata": {
            "tags": []
          },
          "execution_count": 13
        }
      ]
    },
    {
      "cell_type": "code",
      "metadata": {
        "id": "_gWr_ac7Ui97",
        "outputId": "95949903-15b1-42dd-a004-882af438b182",
        "colab": {
          "base_uri": "https://localhost:8080/"
        }
      },
      "source": [
        "#Nombre de match par an\n",
        "nbre_match = results2['year'].value_counts()\n",
        "nbre_match.head()"
      ],
      "execution_count": null,
      "outputs": [
        {
          "output_type": "execute_result",
          "data": {
            "text/plain": [
              "2019    1155\n",
              "2008    1091\n",
              "2011    1081\n",
              "2004    1064\n",
              "2000    1026\n",
              "Name: year, dtype: int64"
            ]
          },
          "metadata": {
            "tags": []
          },
          "execution_count": 14
        }
      ]
    },
    {
      "cell_type": "code",
      "metadata": {
        "id": "w2nkHsimVaOx",
        "outputId": "2ca05388-59d4-4a11-8be9-26f92df0bb4b",
        "colab": {
          "base_uri": "https://localhost:8080/",
          "height": 586
        }
      },
      "source": [
        "plt.figure(figsize=(20,8))\n",
        "sns.lineplot(nbre_match.index, nbre_match.values)\n",
        "plt.title('Nombres de matchs internationaux par an')\n",
        "plt.ylabel('Nombres')\n",
        "plt.xlabel('Années')"
      ],
      "execution_count": null,
      "outputs": [
        {
          "output_type": "stream",
          "text": [
            "/usr/local/lib/python3.6/dist-packages/seaborn/_decorators.py:43: FutureWarning: Pass the following variables as keyword args: x, y. From version 0.12, the only valid positional argument will be `data`, and passing other arguments without an explicit keyword will result in an error or misinterpretation.\n",
            "  FutureWarning\n"
          ],
          "name": "stderr"
        },
        {
          "output_type": "execute_result",
          "data": {
            "text/plain": [
              "Text(0.5, 0, 'Années')"
            ]
          },
          "metadata": {
            "tags": []
          },
          "execution_count": 15
        },
        {
          "output_type": "display_data",
          "data": {
            "image/png": "[encoded data removed]",
            "text/plain": [
              "<Figure size 1440x576 with 1 Axes>"
            ]
          },
          "metadata": {
            "tags": [],
            "needs_background": "light"
          }
        }
      ]
    },
    {
      "cell_type": "markdown",
      "metadata": {
        "id": "8iAWj9HJV0EU"
      },
      "source": [
        "On constate que le foot a évolué de manière exponentielle à partir des années 60. Et on peut aussi identifier en 2020 l'affaiblissement de la courbe suite au coronavirus. On peut aussi voir l'effet de la seconde guerre mondiale.\n",
        "\n",
        "Les différents pics peuvent être liés aux compétitions qui ont lieu tous les 4 ans ou tous les 2 ans, ce qui expliquent les variations."
      ]
    },
    {
      "cell_type": "markdown",
      "metadata": {
        "id": "hZzED4ybRPH9"
      },
      "source": [
        "##Nombre de buts"
      ]
    },
    {
      "cell_type": "code",
      "metadata": {
        "id": "R5a94LxVOYjR",
        "outputId": "0d75c318-d8b7-4dd8-9ea5-f39e1613dd99",
        "colab": {
          "base_uri": "https://localhost:8080/",
          "height": 282
        }
      },
      "source": [
        "sns.barplot(x=results2.groupby(by=['year']).sum().sum().index[:], y=results2.groupby(by=['year']).sum().sum())\n",
        "plt.title(\"Nombre de buts depuis 1872\")\n",
        "plt.show()"
      ],
      "execution_count": null,
      "outputs": [
        {
          "output_type": "display_data",
          "data": {
            "image/png": "[encoded data removed]",
            "text/plain": [
              "<Figure size 432x288 with 1 Axes>"
            ]
          },
          "metadata": {
            "tags": [],
            "needs_background": "light"
          }
        }
      ]
    },
    {
      "cell_type": "markdown",
      "metadata": {
        "id": "DnqKa3I2RUKv"
      },
      "source": [
        "On constate depuis 1872 qu'il y a beeaucoup plus de buts marqués par une équipe à domicile plutot qu'a l'extérieur, on peut en déduire que jouer à domicile est un avantage dans le football.\n",
        "\n",
        "*PS : Je n'ai pas réussi à enlever la valeur neutre*\n",
        "\n"
      ]
    },
    {
      "cell_type": "markdown",
      "metadata": {
        "id": "-Wtru0v9TD-s"
      },
      "source": [
        "##L'évolution du nombre de but en fonction des années"
      ]
    },
    {
      "cell_type": "code",
      "metadata": {
        "id": "-EQOFJXESq0V"
      },
      "source": [
        "#Ajout de la colonne nombre de but\n",
        "results2['but'] = results2['home_score'] + results2['away_score']"
      ],
      "execution_count": null,
      "outputs": []
    },
    {
      "cell_type": "code",
      "metadata": {
        "id": "eQO42sHAWGo2",
        "outputId": "48879f30-750b-44fa-8dac-3f4128d6091d",
        "colab": {
          "base_uri": "https://localhost:8080/",
          "height": 586
        }
      },
      "source": [
        "plt.figure(figsize=(20,8))\n",
        "sns.lineplot(results2.groupby(by=['year']).sum().but.index, results2.groupby(by=['year']).sum().but.values)\n",
        "plt.title('Nombres de buts par an')\n",
        "plt.ylabel('Nombres')\n",
        "plt.xlabel('Années')"
      ],
      "execution_count": null,
      "outputs": [
        {
          "output_type": "stream",
          "text": [
            "/usr/local/lib/python3.6/dist-packages/seaborn/_decorators.py:43: FutureWarning: Pass the following variables as keyword args: x, y. From version 0.12, the only valid positional argument will be `data`, and passing other arguments without an explicit keyword will result in an error or misinterpretation.\n",
            "  FutureWarning\n"
          ],
          "name": "stderr"
        },
        {
          "output_type": "execute_result",
          "data": {
            "text/plain": [
              "Text(0.5, 0, 'Années')"
            ]
          },
          "metadata": {
            "tags": []
          },
          "execution_count": 138
        },
        {
          "output_type": "display_data",
          "data": {
            "image/png": "[encoded data removed]",
            "text/plain": [
              "<Figure size 1440x576 with 1 Axes>"
            ]
          },
          "metadata": {
            "tags": [],
            "needs_background": "light"
          }
        }
      ]
    },
    {
      "cell_type": "markdown",
      "metadata": {
        "id": "jAs1HHysYbO4"
      },
      "source": [
        "La courbe ressemble à celle du nombres de match par an. Ce qui est logique puisque plus il y a de match plus le nombre de buts à des chances d'augmenter."
      ]
    },
    {
      "cell_type": "markdown",
      "metadata": {
        "id": "Hu5Ilu12Y585"
      },
      "source": [
        "## La meilleure attaque"
      ]
    },
    {
      "cell_type": "code",
      "metadata": {
        "id": "2Pn8KF8iY9bM",
        "outputId": "f8c0a7d2-ee07-4cf1-9134-1d68284110f5",
        "colab": {
          "base_uri": "https://localhost:8080/",
          "height": 436
        }
      },
      "source": [
        "results2.groupby(by=['home_team']).sum()"
      ],
      "execution_count": null,
      "outputs": [
        {
          "output_type": "execute_result",
          "data": {
            "text/html": [
              "<div>\n",
              "<style scoped>\n",
              "    .dataframe tbody tr th:only-of-type {\n",
              "        vertical-align: middle;\n",
              "    }\n",
              "\n",
              "    .dataframe tbody tr th {\n",
              "        vertical-align: top;\n",
              "    }\n",
              "\n",
              "    .dataframe thead th {\n",
              "        text-align: right;\n",
              "    }\n",
              "</style>\n",
              "<table border=\"1\" class=\"dataframe\">\n",
              "  <thead>\n",
              "    <tr style=\"text-align: right;\">\n",
              "      <th></th>\n",
              "      <th>home_score</th>\n",
              "      <th>away_score</th>\n",
              "      <th>neutral</th>\n",
              "      <th>year</th>\n",
              "      <th>but</th>\n",
              "    </tr>\n",
              "    <tr>\n",
              "      <th>home_team</th>\n",
              "      <th></th>\n",
              "      <th></th>\n",
              "      <th></th>\n",
              "      <th></th>\n",
              "      <th></th>\n",
              "    </tr>\n",
              "  </thead>\n",
              "  <tbody>\n",
              "    <tr>\n",
              "      <th>Abkhazia</th>\n",
              "      <td>36</td>\n",
              "      <td>11</td>\n",
              "      <td>12</td>\n",
              "      <td>36298</td>\n",
              "      <td>47</td>\n",
              "    </tr>\n",
              "    <tr>\n",
              "      <th>Afghanistan</th>\n",
              "      <td>51</td>\n",
              "      <td>61</td>\n",
              "      <td>34</td>\n",
              "      <td>80333</td>\n",
              "      <td>112</td>\n",
              "    </tr>\n",
              "    <tr>\n",
              "      <th>Albania</th>\n",
              "      <td>195</td>\n",
              "      <td>203</td>\n",
              "      <td>20</td>\n",
              "      <td>351472</td>\n",
              "      <td>398</td>\n",
              "    </tr>\n",
              "    <tr>\n",
              "      <th>Alderney</th>\n",
              "      <td>5</td>\n",
              "      <td>27</td>\n",
              "      <td>7</td>\n",
              "      <td>14087</td>\n",
              "      <td>32</td>\n",
              "    </tr>\n",
              "    <tr>\n",
              "      <th>Algeria</th>\n",
              "      <td>521</td>\n",
              "      <td>250</td>\n",
              "      <td>104</td>\n",
              "      <td>582324</td>\n",
              "      <td>771</td>\n",
              "    </tr>\n",
              "    <tr>\n",
              "      <th>...</th>\n",
              "      <td>...</td>\n",
              "      <td>...</td>\n",
              "      <td>...</td>\n",
              "      <td>...</td>\n",
              "      <td>...</td>\n",
              "    </tr>\n",
              "    <tr>\n",
              "      <th>Yugoslavia</th>\n",
              "      <td>439</td>\n",
              "      <td>236</td>\n",
              "      <td>7</td>\n",
              "      <td>372638</td>\n",
              "      <td>675</td>\n",
              "    </tr>\n",
              "    <tr>\n",
              "      <th>Zambia</th>\n",
              "      <td>563</td>\n",
              "      <td>250</td>\n",
              "      <td>70</td>\n",
              "      <td>598266</td>\n",
              "      <td>813</td>\n",
              "    </tr>\n",
              "    <tr>\n",
              "      <th>Zanzibar</th>\n",
              "      <td>63</td>\n",
              "      <td>100</td>\n",
              "      <td>29</td>\n",
              "      <td>115419</td>\n",
              "      <td>163</td>\n",
              "    </tr>\n",
              "    <tr>\n",
              "      <th>Zimbabwe</th>\n",
              "      <td>302</td>\n",
              "      <td>173</td>\n",
              "      <td>24</td>\n",
              "      <td>379528</td>\n",
              "      <td>475</td>\n",
              "    </tr>\n",
              "    <tr>\n",
              "      <th>Åland Islands</th>\n",
              "      <td>47</td>\n",
              "      <td>41</td>\n",
              "      <td>18</td>\n",
              "      <td>54057</td>\n",
              "      <td>88</td>\n",
              "    </tr>\n",
              "  </tbody>\n",
              "</table>\n",
              "<p>308 rows × 5 columns</p>\n",
              "</div>"
            ],
            "text/plain": [
              "               home_score  away_score  neutral    year  but\n",
              "home_team                                                  \n",
              "Abkhazia               36          11       12   36298   47\n",
              "Afghanistan            51          61       34   80333  112\n",
              "Albania               195         203       20  351472  398\n",
              "Alderney                5          27        7   14087   32\n",
              "Algeria               521         250      104  582324  771\n",
              "...                   ...         ...      ...     ...  ...\n",
              "Yugoslavia            439         236        7  372638  675\n",
              "Zambia                563         250       70  598266  813\n",
              "Zanzibar               63         100       29  115419  163\n",
              "Zimbabwe              302         173       24  379528  475\n",
              "Åland Islands          47          41       18   54057   88\n",
              "\n",
              "[308 rows x 5 columns]"
            ]
          },
          "metadata": {
            "tags": []
          },
          "execution_count": 160
        }
      ]
    },
    {
      "cell_type": "markdown",
      "metadata": {
        "id": "vU2WMjJ6Mz8A"
      },
      "source": [
        "#Merci d'avoir lu jusqu'au bout, j'attends un virement de 50euros. Me contacter en privé pour mon PayPal"
      ]
    }
  ]
}