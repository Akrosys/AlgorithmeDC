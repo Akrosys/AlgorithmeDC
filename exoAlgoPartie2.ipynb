{
  "nbformat": 4,
  "nbformat_minor": 0,
  "metadata": {
    "colab": {
      "name": "exoAlgoPartie2.ipynb",
      "provenance": [],
      "collapsed_sections": []
    },
    "kernelspec": {
      "name": "python3",
      "display_name": "Python 3"
    }
  },
  "cells": [
    {
      "cell_type": "markdown",
      "metadata": {
        "id": "kaKYhwYpEtlZ"
      },
      "source": [
        "#La somme\n",
        "Ecrire un algorithme calculant la somme des valeurs d’un tableau (on suppose\n",
        "bien sur que le tableau a eté préalablement saisi)."
      ]
    },
    {
      "cell_type": "markdown",
      "metadata": {
        "id": "o2tqkdPCIEqp"
      },
      "source": [
        "**Pseudo-code**\n",
        "```\n",
        "L est une liste\n",
        "somme est un entier ayant pour valeur 0\n",
        "Pour i allant de 0 à la taille de L\n",
        "    somme prend la valeur de (somme + L[i])\n",
        "Afficher somme\n",
        "```\n",
        "\n",
        "\n"
      ]
    },
    {
      "cell_type": "code",
      "metadata": {
        "id": "2_2AXNuhG5aV",
        "outputId": "c090806e-e19c-409f-87ba-130c20d73da5",
        "colab": {
          "base_uri": "https://localhost:8080/",
          "height": 51
        }
      },
      "source": [
        "from random import randint\n",
        "\n",
        "a,b = 0,10\n",
        "N = 5\n",
        "L = [randint(a,b) for _ in range(N)]\n",
        "\n",
        "def sommeListe(L):\n",
        "  somme = 0\n",
        "  print(\"Contenu de la liste :\", L)\n",
        "  for i in L:\n",
        "    somme = somme + i\n",
        "  return somme\n",
        "print(\"En additionnant les valuers de la liste on obitent : \", sommeListe(L))"
      ],
      "execution_count": 20,
      "outputs": [
        {
          "output_type": "stream",
          "text": [
            "Contenu de la liste : [8, 2, 2, 3, 0]\n",
            "En additionnant les valuers de la liste on obitent :  15\n"
          ],
          "name": "stdout"
        }
      ]
    },
    {
      "cell_type": "markdown",
      "metadata": {
        "id": "5qXqqBABKWNE"
      },
      "source": [
        "#La somme : retour\n",
        "Ecrire un algorithme constituant un tableau, à partir de deux tableaux de même\n",
        "longueur prealablement saisis. Le nouveau tableau sera la somme des eléments\n",
        "des deux tableaux de départ."
      ]
    },
    {
      "cell_type": "markdown",
      "metadata": {
        "id": "y534nYTnNiMu"
      },
      "source": [
        "**Pseudo-code :**\n",
        "\n",
        "\n",
        "```\n",
        "L1, L2 et Lres sont des listes\n",
        "\n",
        "Pour i allant de 0 à taille de L1\n",
        "  Ajouter (L1[i] + L2[i]) dans Lres\n",
        "\n",
        "Afficher Lres\n",
        "```\n",
        "\n"
      ]
    },
    {
      "cell_type": "code",
      "metadata": {
        "id": "gVEwQXueLrHD",
        "outputId": "96db0f50-44b9-4756-d2d1-c880eb373ead",
        "colab": {
          "base_uri": "https://localhost:8080/",
          "height": 68
        }
      },
      "source": [
        "L1 = [randint(a,b) for _ in range(N)]\n",
        "print(\"Contenu de la première liste : \", L1)\n",
        "L2 = [randint(a,b) for _ in range(N)]\n",
        "print(\"Contenu de la deuxième liste :\", L2)\n",
        "Lres = []\n",
        "\n",
        "for i in range(len(L1)):\n",
        "  Lres.append(L1[i] + L2[i])\n",
        "\n",
        "print(\"La somme des valeurs de L1 et L2 est : \", Lres)"
      ],
      "execution_count": 32,
      "outputs": [
        {
          "output_type": "stream",
          "text": [
            "Contenu de la première liste :  [10, 1, 6, 9, 2]\n",
            "Contenu de la deuxième liste : [10, 10, 8, 6, 4]\n",
            "La somme des valeurs de L1 et L2 est :  [20, 11, 14, 15, 6]\n"
          ],
          "name": "stdout"
        }
      ]
    },
    {
      "cell_type": "markdown",
      "metadata": {
        "id": "ax_TdBJYOVuW"
      },
      "source": [
        "#Fac product\n",
        "Toujours à partir de deux tableaux précédemment saisis, écrire un algorithme\n",
        "qui calcule le ’FacProduct’ des deux tableaux. Pour calculer le ’FacProduct’, il\n",
        "faut multiplier chaque élément du tableau1 par chaque  ́element du tableau2, et\n",
        "additionner le tout.\n",
        "\n",
        "*NB : A noter que le fac product est aussi la multiplication de la somme de chaque tableau*"
      ]
    },
    {
      "cell_type": "code",
      "metadata": {
        "id": "8RRmGvM9QT56",
        "outputId": "e5b45087-b06e-4498-aabf-9ff5d4550f1d",
        "colab": {
          "base_uri": "https://localhost:8080/",
          "height": 68
        }
      },
      "source": [
        "facProduct = sommeListe(L1)*sommeListe(L2)\n",
        "\n",
        "print(\"Le facProduct est donc :\", facProduct)\n",
        "\n"
      ],
      "execution_count": 33,
      "outputs": [
        {
          "output_type": "stream",
          "text": [
            "Contenu de la liste : [10, 1, 6, 9, 2]\n",
            "Contenu de la liste : [10, 10, 8, 6, 4]\n",
            "Le facProduct est donc : 1064\n"
          ],
          "name": "stdout"
        }
      ]
    },
    {
      "cell_type": "markdown",
      "metadata": {
        "id": "sCxDascCWQ9-"
      },
      "source": [
        "#Le plus grand\n",
        "Ecrire un algorithme permettant à l’utilisateur de saisir un nombre déterminé\n",
        "de valeurs. Le programme, une fois la saisie terminée, renvoie la plus grande\n",
        "valeur en précisant quelle position elle occupe dans le tableau."
      ]
    },
    {
      "cell_type": "markdown",
      "metadata": {
        "id": "iWdWvQoJajhJ"
      },
      "source": [
        "**Pseudo-code :**\n",
        "\n",
        "```\n",
        "taille est un entier\n",
        "maxIndex est un entier\n",
        "max est un entier\n",
        "Lres2 est une liste\n",
        "\n",
        "Saisir taille\n",
        "Pour i allant de 0 à taille\n",
        "  Lres2[i] prend la valeur saisie par l'utilisateur\n",
        "max <-- Lres2[0]\n",
        "maxIndex <-- 0\n",
        "Pour index allant de 0 à taille de Lres2\n",
        "  si Lres2[index] > max\n",
        "    max <-- Lres2[index]\n",
        "    maxIndex <-- index\n",
        "    \n",
        "Afficher max et maxIndex\n",
        "\n",
        "```\n",
        "\n"
      ]
    },
    {
      "cell_type": "code",
      "metadata": {
        "id": "IgAJJWogYG4a",
        "outputId": "1e501362-7708-4b90-cfd6-8bacc393a10d",
        "colab": {
          "base_uri": "https://localhost:8080/",
          "height": 255
        }
      },
      "source": [
        "print(\"Indiquer la taille de la liste :\")\n",
        "taille = int(input())\n",
        "Lres2 = []\n",
        "for i in range(taille):\n",
        "  print(\"Le nombre ayant pour index \", i, \" sera : \")\n",
        "  Lres2.append(int(input()))\n",
        "print(Lres2)\n",
        "\n",
        "max = Lres2[0]\n",
        "maxIndex = 0\n",
        "for index in range(len(Lres2)):\n",
        "  if Lres2[index] > max:\n",
        "    max = Lres2[index]\n",
        "    maxIndex = index\n",
        "print(\"La plus grande valeur du tableau est : \", max, \" elle se trouve à la postion n° \", maxIndex)\n",
        "\n",
        "\n"
      ],
      "execution_count": 41,
      "outputs": [
        {
          "output_type": "stream",
          "text": [
            "Indiquer la taille de la liste :\n",
            "5\n",
            "Le nombre ayant pour index  0  sera : \n",
            "10\n",
            "Le nombre ayant pour index  1  sera : \n",
            "-10\n",
            "Le nombre ayant pour index  2  sera : \n",
            "0\n",
            "Le nombre ayant pour index  3  sera : \n",
            "24\n",
            "Le nombre ayant pour index  4  sera : \n",
            "-69\n",
            "[10, -10, 0, 24, -69]\n",
            "La plus grande valeur du tableau est :  24  elle se trouve à la postion n°  3\n"
          ],
          "name": "stdout"
        }
      ]
    }
  ]
}