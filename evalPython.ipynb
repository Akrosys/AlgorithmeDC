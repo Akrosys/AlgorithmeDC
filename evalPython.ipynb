{
  "nbformat": 4,
  "nbformat_minor": 0,
  "metadata": {
    "colab": {
      "name": "evalPython.ipynb",
      "provenance": [],
      "collapsed_sections": []
    },
    "kernelspec": {
      "name": "python3",
      "display_name": "Python 3"
    }
  },
  "cells": [
    {
      "cell_type": "code",
      "metadata": {
        "id": "oUXiOYxOokFK",
        "outputId": "44734ef0-d396-45ce-a1a5-61cfa354e88b",
        "colab": {
          "base_uri": "https://localhost:8080/",
          "height": 0
        }
      },
      "source": [
        "#carré\n",
        "def carre(x):\n",
        "  result = x*x\n",
        "  return result\n",
        "\n",
        "print(\"Le resultat est\",carre(5))\n"
      ],
      "execution_count": 34,
      "outputs": [
        {
          "output_type": "stream",
          "text": [
            "Le resultat est 25\n"
          ],
          "name": "stdout"
        }
      ]
    },
    {
      "cell_type": "code",
      "metadata": {
        "id": "fjaWUGXXpMS0",
        "outputId": "017c1a0f-2f38-4560-8184-b98baa67211e",
        "colab": {
          "base_uri": "https://localhost:8080/",
          "height": 0
        }
      },
      "source": [
        "#Produit\n",
        "def signe():\n",
        "  nbreA = int(input())\n",
        "  nbreB = int(input())\n",
        "  if (nbreA*nbreB > 0):\n",
        "    print(\"Le produit est positif\")\n",
        "  elif (nbreA*nbreB < 0):\n",
        "    print(\"Le produit est négatif\")\n",
        "  else:\n",
        "    print(\"Le produit est nul\")\n",
        "\n",
        "signe()\n"
      ],
      "execution_count": 7,
      "outputs": [
        {
          "output_type": "stream",
          "text": [
            "-8\n",
            "-7\n",
            "Le produit est positif\n"
          ],
          "name": "stdout"
        }
      ]
    },
    {
      "cell_type": "code",
      "metadata": {
        "id": "bA3Nh_5NqLIC",
        "outputId": "1f8d2ed1-d791-4a9d-aa75-17fd47256364",
        "colab": {
          "base_uri": "https://localhost:8080/",
          "height": 0
        }
      },
      "source": [
        "#somme\n",
        "def sommeVersNombre():\n",
        "  nombreAdditions = int(input())\n",
        "  res = 0\n",
        "  while nombreAdditions > 0:\n",
        "      res = res + nombreAdditions\n",
        "      nombreAdditions -= 1\n",
        "  print(\"resultat :\", res)\n",
        "\n",
        "sommeVersNombre()"
      ],
      "execution_count": 11,
      "outputs": [
        {
          "output_type": "stream",
          "text": [
            "9\n",
            "resultat : 45\n"
          ],
          "name": "stdout"
        }
      ]
    },
    {
      "cell_type": "code",
      "metadata": {
        "id": "veJhxoMcqkpJ",
        "outputId": "65c4c185-b2d4-432a-ba16-571065199c64",
        "colab": {
          "base_uri": "https://localhost:8080/",
          "height": 0
        }
      },
      "source": [
        "#FacProduct\n",
        "from random import randint\n",
        "a,b = -10,10\n",
        "N = 5\n",
        "L1 = [randint(a,b) for _ in range(N)]\n",
        "L2 = [randint(a,b) for _ in range(N)]\n",
        "\n",
        "def sommeListe(L):\n",
        "  somme = 0\n",
        "  print(\"Contenu de la liste :\", L)\n",
        "  for i in L:\n",
        "    somme = somme + i\n",
        "  return somme\n",
        "\n",
        "def facProduct(L1, L2):\n",
        "  facProduct = sommeListe(L1)*sommeListe(L2)\n",
        "  print(\"Le facProduct est donc :\", facProduct)\n",
        "\n",
        "facProduct(L1,L2)"
      ],
      "execution_count": 16,
      "outputs": [
        {
          "output_type": "stream",
          "text": [
            "Contenu de la liste : [-9, 8, -7, 7, -6]\n",
            "Contenu de la liste : [4, -3, -9, 7, 2]\n",
            "Le facProduct est donc : -7\n"
          ],
          "name": "stdout"
        }
      ]
    },
    {
      "cell_type": "code",
      "metadata": {
        "id": "Y-pAwUaArpHh",
        "outputId": "a6a87eec-548d-41ba-e159-7d87454ffb49",
        "colab": {
          "base_uri": "https://localhost:8080/",
          "height": 0
        }
      },
      "source": [
        "#Minimum\n",
        "L3 = [randint(a,b) for _ in range(N)]\n",
        "\n",
        "def min(L):\n",
        "  min = L[0]\n",
        "  for i in range(len(L)):\n",
        "    if min > L[i]:\n",
        "        min = L[i]\n",
        "  return min\n",
        "\n",
        "print(\"Contenu de la liste\", L3)\n",
        "print(\"Le minimum est\", min(L3))"
      ],
      "execution_count": 27,
      "outputs": [
        {
          "output_type": "stream",
          "text": [
            "Contenu de la liste [-5, -9, -5, 4, -1]\n",
            "Le minimum est -9\n"
          ],
          "name": "stdout"
        }
      ]
    },
    {
      "cell_type": "code",
      "metadata": {
        "id": "vBWMjXxnskQY",
        "outputId": "cd572e89-c1c5-44fc-db60-8a314e0fab9b",
        "colab": {
          "base_uri": "https://localhost:8080/",
          "height": 0
        }
      },
      "source": [
        "#tri par selection\n",
        "L4 = [randint(a,b) for _ in range(N)]\n",
        "\n",
        "def arg_min(tab, debut, fin):\n",
        "    min_pos = debut\n",
        "    for i in range(debut+1,fin):\n",
        "        if tab[min_pos] > tab[i]:\n",
        "            min_pos = i\n",
        "    return min_pos\n",
        "\n",
        "def tri_selection(tab):\n",
        "    for i in range(len(tab)-1):\n",
        "        min_pos = arg_min(tab,i, len(tab))\n",
        "        if min_pos != i:\n",
        "            tab[i],tab[min_pos] = tab[min_pos],tab[i]\n",
        "\n",
        "print(\"Liste non triée :\", L4)\n",
        "tri_selection(L4)\n",
        "print(\"Liste avec le tri par selection\", L4)"
      ],
      "execution_count": 33,
      "outputs": [
        {
          "output_type": "stream",
          "text": [
            "Liste non triée : [7, -4, 10, 0, -6]\n",
            "Liste avec le tri par selection [-6, -4, 0, 7, 10]\n"
          ],
          "name": "stdout"
        }
      ]
    },
    {
      "cell_type": "code",
      "metadata": {
        "id": "ur-r_e23t-YG",
        "outputId": "8f0aba54-aa33-48d0-b745-5900cceabff0",
        "colab": {
          "base_uri": "https://localhost:8080/",
          "height": 0
        }
      },
      "source": [
        "#Carré & Listes\n",
        "L5 = [randint(a,b) for _ in range(N)]\n",
        "\n",
        "def carreList(tab):\n",
        "  for i in range(len(tab)):\n",
        "    tab[i] = carre(tab[i])\n",
        "  return tab\n",
        "\n",
        "print(\"La liste de base :\",L5)\n",
        "print(\"La liste au carré :\",carreList(L5))"
      ],
      "execution_count": 44,
      "outputs": [
        {
          "output_type": "stream",
          "text": [
            "La liste de base : [4, -2, 6, -2, -3]\n",
            "La liste au carré : [16, 4, 36, 4, 9]\n"
          ],
          "name": "stdout"
        }
      ]
    },
    {
      "cell_type": "code",
      "metadata": {
        "id": "jqmoygHiu9lq",
        "outputId": "1849e671-15a4-4f17-9f5d-4cb6071d4514",
        "colab": {
          "base_uri": "https://localhost:8080/",
          "height": 132
        }
      },
      "source": [
        "#Valeur du plus petit doublon\n",
        "L6 = [0,8,-9,7,0,8]\n",
        "\n",
        "def premierDoublon(tab):\n",
        "  for i in range(len(tab)):\n",
        "    for j in range(len(tab)):\n",
        "      if tab[i] == tab[]:\n",
        "        return tab[i]\n",
        "\n",
        "print(\"La liste de base :\", L6)\n",
        "premierDoublon(L6)"
      ],
      "execution_count": 58,
      "outputs": [
        {
          "output_type": "error",
          "ename": "SyntaxError",
          "evalue": "ignored",
          "traceback": [
            "\u001b[0;36m  File \u001b[0;32m\"<ipython-input-58-a8c075e29040>\"\u001b[0;36m, line \u001b[0;32m6\u001b[0m\n\u001b[0;31m    for j = i+1 in range(len(tab)):\u001b[0m\n\u001b[0m          ^\u001b[0m\n\u001b[0;31mSyntaxError\u001b[0m\u001b[0;31m:\u001b[0m invalid syntax\n"
          ]
        }
      ]
    },
    {
      "cell_type": "code",
      "metadata": {
        "id": "tkpmMeacwWbL"
      },
      "source": [
        "#Multiplication matricielle\n",
        "import numpy as np\n"
      ],
      "execution_count": 61,
      "outputs": []
    },
    {
      "cell_type": "markdown",
      "metadata": {
        "id": "6HO7S5L8xNBE"
      },
      "source": [
        "##Qu'est ce que la programmation orientée objet ?\n",
        "\n",
        "La programmation orienté objet, c’est un style de programmation qui permet de regrouper au même endroit le comportement (les fonctions) et les données (les structures) qui sont faites pour aller ensemble.\n",
        "\n",
        "##L'héritage\n",
        "Cette notion permet de récupérer les propriétés d'une classe. On appelle la classe fille, la classe qui récupère les propriétés d'une autre classe (classe mère).\n",
        "\n",
        "##Polymorphisme\n",
        "Cela permet de redefinir une methode dans une classe fille."
      ]
    }
  ]
}